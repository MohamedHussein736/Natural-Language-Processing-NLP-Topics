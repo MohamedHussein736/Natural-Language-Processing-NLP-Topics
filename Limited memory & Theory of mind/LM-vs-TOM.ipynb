{
  "nbformat": 4,
  "nbformat_minor": 0,
  "metadata": {
    "colab": {
      "name": "LM vs TOM.ipynb",
      "provenance": [],
      "collapsed_sections": [],
      "authorship_tag": "ABX9TyMhw9MIRKEuUN9DJNJn8ANj",
      "include_colab_link": true
    },
    "kernelspec": {
      "name": "python3",
      "display_name": "Python 3"
    }
  },
  "cells": [
    {
      "cell_type": "markdown",
      "metadata": {
        "id": "view-in-github",
        "colab_type": "text"
      },
      "source": [
        "<a href=\"https://colab.research.google.com/github/MohamedHussein736/Natural-Language-Processing-NLP-Topics/blob/master/Limited%20memory%20%26%20Theory%20of%20mind/LM-vs-TOM.ipynb\" target=\"_parent\"><img src=\"https://colab.research.google.com/assets/colab-badge.svg\" alt=\"Open In Colab\"/></a>"
      ]
    },
    {
      "cell_type": "markdown",
      "metadata": {
        "id": "HEir44nIi3-W",
        "colab_type": "text"
      },
      "source": [
        "# **Types of Artificial Intelligence**\n",
        "## Table of Content:\n",
        "* Type1 - AI (Classification based on ability)\n",
        "  * 1.1. Narrow AI\n",
        "  * 1.2. General AI\n",
        "  * 1.3. Super AI\n",
        "* Type2 - AI (Classification based on functionality)\n",
        "  * 2.1. Reactive machines\n",
        "  * 2.2. Limited memory\n",
        "  * Reactive machines vs Limited memory in autonomous vehicles\n",
        "  * 2.3. Theory of mind\n",
        "  * 2.4. Self-Awareness\n",
        "* References\n",
        "\n",
        "\n",
        "<center>\n",
        "<img src=\"https://d2h0cx97tjks2p.cloudfront.net/blogs/wp-content/uploads/sites/2/2019/11/types-of-Artificial-intelligence.jpg\" width=\"700\" height=\"400\" align=\"center\"/> </center>\n",
        "\n"
      ]
    },
    {
      "cell_type": "markdown",
      "metadata": {
        "id": "sCFq4yqhZYBN",
        "colab_type": "text"
      },
      "source": [
        "##Type1 - AI (Classification based on ability)\n",
        "---\n",
        "### **1.1. Narrow AI**\n",
        "**Narrow AI** is also called weak AI. This type of AI can only work in predefined situations. They can only perform certain pre-programmed tasks.\n",
        "\n",
        "###**1.2. General AI**\n",
        "**General AI** can perform any task with efficiency equal to that of a human.\n",
        "\n",
        "###**1.3. Super AI**\n",
        "**Super AI** is a hypothetical concept in AI research. It is an AI that can perform any task better than humans with greater efficiency without any human error.\n",
        " "
      ]
    },
    {
      "cell_type": "markdown",
      "metadata": {
        "id": "hz7TpcGiZgUO",
        "colab_type": "text"
      },
      "source": [
        "##Type2 - AI (Classification based on functionality)\n",
        "---\n",
        "### **2.1. Reactive machines**\n",
        "**Reactive machines** are the most basic type of AI system. This type of AI looks at the world around it and responds based on its observation. They do not form memory nor do they learn from past experiences.\n",
        "\n",
        "**Example:**\n",
        "\n",
        "*   Deep Blue, IBM’s chess-playing supercomputerc reated by IBM in the mid-1980s. \n",
        "\n",
        "##**2.2. Limited memory**\n",
        "**Limited memory** AI is similar to reactive machines except they have a small memory that they can use to make observations over a period of time to judge the situation and give a response based on that. \n",
        "\n",
        "Limited memory is comprised of machine learning models that derive knowledge from previously-learned information, stored data, or events. Unlike reactive machines, limited memory learns from the past by observing actions or data fed to them in order to build experiential knowledge.\n",
        "\n",
        "An example of limited memory AI would be self-driving cars. Self-driving cars need at least short term memory to react properly to road signs and to observe the speeds and paths of other vehicles around them, observe and understand how to properly drive and function among human-dependent vehicles.\n",
        "\n",
        "###**Reactive machines vs Limited memory in autonomous vehicles** \n",
        "Not only do autonomous vehicles observe their environment, but they also observe the movement of other vehicles and people in their line of vision. Previously, driverless cars without limited memory AI took as long as 100 seconds to react and make judgments on external factors. Since the introduction of limited memory, reaction time on machine-based observations has dropped sharply, depicting the value of limited memory AI. \n",
        "###**Examples:**\n",
        "*\tAutonomous vehicles\n",
        "* Flying cars\n",
        "\n",
        "##**2.3. Theory of mind**\n",
        "**Theory of mind** AI does not exist yet. It perceives the world around them and other agents inside it as well. They understand how other objects and entities will react to their actions and act accordingly.\n",
        "What constitutes theory of mind is decision-making ability equal to the extent of a human mind, but by machines. \n",
        "\n",
        "While there are some machines that currently exhibit human like capabilities (voice assistants, for instance), none are fully capable of holding conversations relative to human standards. One component of human conversation is having emotional capacity, or sounding and behaving like a person would in standard conventions of conversation.\n",
        "\n",
        "This future class of machine ability would include understanding that people have thoughts and emotions that affect behavioral output and thus influence a “theory of mind” machine’s thought process. Social interaction is a key facet of human interaction, so to make theory of mind machines tangible, the AI systems that control the now-hypothetical machines would have to identify, understand, retain, and remember emotional output and behaviors while knowing how to respond to them.\n",
        "\n",
        "From this, said theory of mind machines would have to be able to use the information derived from people and adapt it into their learning centers to know how to communicate with and treat different situations. Theory of mind is a highly advanced form of proposed artificial intelligence that would require machines to thoroughly acknowledge rapid shifts in emotional and behavioral patterns in humans, and also understand that human behavior is fluid; thus, theory of mind machines would have to be able to learn rapidly at a moment’s notice.\n",
        "\n",
        "Some elements of theory of mind AI currently exist or have existed in the recent past. Two notable examples are the robots Kismet and Sophia, created in 2000 and 2016, respectively.\n",
        "\n",
        "###**Examples:**\n",
        "*    Sophia\n",
        "*    robots Kismet\n",
        "\n",
        "##**2.4. Self-Awareness**\n",
        "**Self-Awareness** AI involves machines that have human-level consciousness. This form of AI is not currently in existence, but would be considered the most advanced form of artificial intelligence known to man. \n",
        "Facets of self-aware AI include the ability to not only recognize and replicate humanlike actions, but also to think for itself, have desires, and understand its feelings. Self-aware AI, in essence, is an advancement and extension of theory of mind AI. Where theory of mind only focuses on the aspects of comprehension and replication of human practices, self-aware AI takes it a step further by implying that it can and will have self-guided thoughts and reactions.\n",
        "\n",
        "Will self-aware AI be reachable in our lifetime?\n",
        "We are presently in tier three of the four types of artificial intelligence, so believing that we could potentially reach the fourth (and final?) tier of AI doesn’t seem like a far-fetched idea. \n",
        "\n",
        "But for now, it’s important to focus on perfecting all aspects of types two and three in AI. Sloppily speeding through each AI tier could be detrimental to the future of artificial intelligence for generations to come. \n"
      ]
    },
    {
      "cell_type": "markdown",
      "metadata": {
        "id": "Ii7LW5pPZ8be",
        "colab_type": "text"
      },
      "source": [
        "##**References**\n",
        "\n",
        "https://www.nextplatform.com/2017/12/04/faster-machine-learning-world-limited-memory/\n",
        "\n",
        "https://learn.g2.com/types-of-artificial-intelligence\n",
        "\n",
        "https://data-flair.training/blogs/ai-and-machine-learning/\n"
      ]
    },
    {
      "cell_type": "code",
      "metadata": {
        "id": "FfaIhZe2Z9Vx",
        "colab_type": "code",
        "colab": {}
      },
      "source": [
        ""
      ],
      "execution_count": 0,
      "outputs": []
    }
  ]
}