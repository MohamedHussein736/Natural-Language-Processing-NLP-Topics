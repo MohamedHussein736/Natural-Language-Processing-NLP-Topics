{
  "nbformat": 4,
  "nbformat_minor": 0,
  "metadata": {
    "colab": {
      "name": "KNN.ipynb",
      "provenance": [],
      "collapsed_sections": [],
      "authorship_tag": "ABX9TyN3PQrsPYBBpEztqzzjNqxN",
      "include_colab_link": true
    },
    "kernelspec": {
      "name": "python3",
      "display_name": "Python 3"
    }
  },
  "cells": [
    {
      "cell_type": "markdown",
      "metadata": {
        "id": "view-in-github",
        "colab_type": "text"
      },
      "source": [
        "<a href=\"https://colab.research.google.com/github/MohamedHussein736/Natural-Language-Processing-NLP-Topics/blob/master/K-Nearest%20Neighbor/K-NN.ipynb\" target=\"_parent\"><img src=\"https://colab.research.google.com/assets/colab-badge.svg\" alt=\"Open In Colab\"/></a>"
      ]
    },
    {
      "cell_type": "markdown",
      "metadata": {
        "colab_type": "text",
        "id": "NSc01Khhm2-H"
      },
      "source": [
        "#**K-Nearest Neighbor**\n",
        "\n",
        "## Table of Content:\n",
        "* Description of KNN Algorithm\n",
        "* Advantages\n",
        "* Disadvantages\n",
        "* KNN Algorithm\n",
        "* Step 1: Calculate Euclidean Distance.\n",
        "* Step 2: Get Nearest Neighbors.\n",
        "* Step 3: Make Predictions.\n",
        "* Step 2: Get Nearest Neighbors.\n",
        "* Step 3: Make Predictions.\n",
        "* Implement KNN Algorithm using Sklearn\n",
        "* References\n",
        "---\n",
        "\n",
        "###**Description:** \n",
        "\n",
        "**The K-Nearest Neighbor** (KNN) is a non-parametric, lazy learning algorithm. Its purpose is to use a database in which the data points are separated into several classes to predict the classification of a new sample point.\n",
        "\n",
        "<center>\n",
        "<img src=\"http://res.cloudinary.com/dyd911kmh/image/upload/f_auto,q_auto:best/v1531424125/Knn_k1_z96jba.png\" width=\"350\" height=\"250\" align=\"center\"/> </center>\n",
        "\n",
        "\n",
        "###**Advantages:**\n",
        " \n",
        "*   Simple algorithm — to explain and understand/interpret.\n",
        "*   High accuracy (relatively) — it is pretty high but not competitive in comparison to better supervised learning models.\n",
        "*   Versatile — useful for classification or regression.\n",
        "\n",
        "###**Disadvantages:**\n",
        "\n",
        "*   Computationally expensive — because the algorithm stores all of the training data.\n",
        "*   High memory requirement.\n",
        "*   Stores all (or almost all) of the training data Prediction stage might be slow.\n",
        "*   Sensitive to irrelevant features and the scale of the data.\n",
        "\n",
        "###**KNN Algorithm:**\n",
        "\n",
        "kNN Algorithm is broken down into 3 parts:\n",
        "\n",
        "1.   Calculate Euclidean Distance.\n",
        "2.   Get Nearest Neighbors.\n",
        "3.   Make Predictions."
      ]
    },
    {
      "cell_type": "markdown",
      "metadata": {
        "id": "cvLY5--jEaru",
        "colab_type": "text"
      },
      "source": [
        "###**Step 1: Calculate Euclidean Distance**\n",
        "Euclidean Distance between points p and q is the length of the line segment connecting them.\n",
        "In Cartesian coordinates, if p = (p1, p2,..., pn) and q = (q1, q2,..., qn) are two points in Euclidean n-space, then the distance (d) from p to q, or from q to p is given by the Pythagorean formula:\n",
        "\n",
        "$$d(p,q)=\\sqrt{\\sum_{i=0}^n (qi-pi)^2}$$\n",
        "\n",
        "```\n",
        "# calculate the Euclidean distance between two vectors\n",
        "def euclidean_distance(row1, row2):\n",
        "\tdistance = 0.0\n",
        "\tfor i in range(len(row1)-1):\n",
        "\t\tdistance += (row1[i] - row2[i])**2\n",
        "\treturn sqrt(distance)\n",
        "```\n"
      ]
    },
    {
      "cell_type": "code",
      "metadata": {
        "id": "ndD4jBZbSBre",
        "colab_type": "code",
        "outputId": "42c9e26c-8da4-4032-b96f-fd56ed8a77c8",
        "colab": {
          "base_uri": "https://localhost:8080/",
          "height": 74
        }
      },
      "source": [
        "# Example of calculating Euclidean distance\n",
        "from math import sqrt\n",
        " \n",
        "# calculate the Euclidean distance between two vectors\n",
        "def euclidean_distance(row1, row2):\n",
        "\tdistance = 0.0\n",
        "\tfor i in range(len(row1)-1):\n",
        "\t\tdistance += (row1[i] - row2[i])**2\n",
        "\treturn sqrt(distance)\n",
        " \n",
        "# Test distance function\n",
        "dataset = [[2.7810836,2.550537003,0],\n",
        "          [1.465489372,2.362125076,0],\n",
        "          [3.396561688,4.400293529,0],\n",
        "          [1.38807019,1.850220317,0],\n",
        "          [3.06407232,3.005305973,0],\n",
        "          [7.627531214,2.759262235,1],\n",
        "          [5.332441248,2.088626775,1],\n",
        "          [6.922596716,1.77106367,1],\n",
        "          [8.675418651,-0.242068655,1],\n",
        "          [7.673756466,3.508563011,1]]\n",
        "row0 = dataset[0]\n",
        "print(row0)\n",
        "distance = [euclidean_distance(row0, row) for row in dataset]\n",
        "print(distance)"
      ],
      "execution_count": 0,
      "outputs": [
        {
          "output_type": "stream",
          "text": [
            "[2.7810836, 2.550537003, 0]\n",
            "[0.0, 1.3290173915275787, 1.9494646655653247, 1.5591439385540549, 0.5356280721938492, 4.850940186986411, 2.592833759950511, 4.214227042632867, 6.522409988228337, 4.985585382449795]\n"
          ],
          "name": "stdout"
        }
      ]
    },
    {
      "cell_type": "markdown",
      "metadata": {
        "id": "UYYPtpFLk_s4",
        "colab_type": "text"
      },
      "source": [
        "###**Step 2: Get Nearest Neighbors.**\n",
        "Once distances are calculated from distance function prepared above, we must sort all of the records in the training dataset by their distance to the new data. We can then select the top k to return as the most similar neighbors.\n",
        "\n",
        "```\n",
        "# Locate the most similar neighbors\n",
        "def get_neighbors(train, test_row, num_neighbors):\n",
        "\tdistances = list()\n",
        "\tfor train_row in train:\n",
        "\t\tdist = euclidean_distance(test_row, train_row)\n",
        "\t\tdistances.append((train_row, dist))\n",
        "\tdistances.sort(key=lambda tup: tup[1])\n",
        "\tneighbors = list()\n",
        "\tfor i in range(num_neighbors):\n",
        "\t\tneighbors.append(distances[i][0])\n",
        "\treturn neighbors\n",
        "  ```\n"
      ]
    },
    {
      "cell_type": "code",
      "metadata": {
        "id": "Zjg1WTIJlcBe",
        "colab_type": "code",
        "outputId": "7c8e0da0-01ac-421f-b2c3-1d00c4ec05d6",
        "colab": {
          "base_uri": "https://localhost:8080/",
          "height": 73
        }
      },
      "source": [
        "# Example of getting neighbors for an instance\n",
        "from math import sqrt\n",
        " \n",
        "# calculate the Euclidean distance between two vectors\n",
        "def euclidean_distance(row1, row2):\n",
        "\tdistance = 0.0\n",
        "\tfor i in range(len(row1)-1):\n",
        "\t\tdistance += (row1[i] - row2[i])**2\n",
        "\treturn sqrt(distance)\n",
        " \n",
        "# Locate the most similar neighbors\n",
        "def get_neighbors(train, test_row, num_neighbors):\n",
        "  \n",
        "\tdistances = list()\n",
        "\tfor train_row in train:\n",
        "\t\tdist = euclidean_distance(test_row, train_row)\n",
        "\t\tdistances.append((train_row, dist))\n",
        "\tdistances.sort(key=lambda tup: tup[1])\n",
        " \n",
        "\tneighbors = list()\n",
        "\tfor i in range(num_neighbors):\n",
        "\t\tneighbors.append(distances[i][0])\n",
        "\treturn neighbors\n",
        " \n",
        "# Test distance function\n",
        "dataset = [[2.7810836,2.550537003,0],\n",
        "          [1.465489372,2.362125076,0],\n",
        "          [3.396561688,4.400293529,0],\n",
        "          [1.38807019,1.850220317,0],\n",
        "          [3.06407232,3.005305973,0],\n",
        "          [7.627531214,2.759262235,1],\n",
        "          [5.332441248,2.088626775,1],\n",
        "          [6.922596716,1.77106367,1],\n",
        "          [8.675418651,-0.242068655,1],\n",
        "          [7.673756466,3.508563011,1]]\n",
        "neighbors = get_neighbors(dataset, dataset[0], 3)\n",
        "for neighbor in neighbors:\n",
        "\tprint(neighbor)"
      ],
      "execution_count": 0,
      "outputs": [
        {
          "output_type": "stream",
          "text": [
            "[2.7810836, 2.550537003, 0]\n",
            "[3.06407232, 3.005305973, 0]\n",
            "[1.465489372, 2.362125076, 0]\n"
          ],
          "name": "stdout"
        }
      ]
    },
    {
      "cell_type": "markdown",
      "metadata": {
        "id": "4Eq_lT2Vk_0m",
        "colab_type": "text"
      },
      "source": [
        "###**Step 3: Make Predictions.**\n",
        "Now that we know how to get neighbors from the dataset, we can use them to make predictions.\n",
        "```\n",
        "# Make a classification prediction with neighbors\n",
        "def predict_classification(train, test_row, num_neighbors):\n",
        "\tneighbors = get_neighbors(train, test_row, num_neighbors)\n",
        "\toutput_values = [row[-1] for row in neighbors]\n",
        "\tprediction = max(set(output_values), key=output_values.count)\n",
        "\treturn prediction\n",
        "```"
      ]
    },
    {
      "cell_type": "code",
      "metadata": {
        "id": "cRTxZ8Q0bV7c",
        "colab_type": "code",
        "outputId": "7243e3a2-0004-4674-a68d-c041f92e8a89",
        "colab": {
          "base_uri": "https://localhost:8080/",
          "height": 36
        }
      },
      "source": [
        "# Example of making predictions\n",
        "from math import sqrt\n",
        " \n",
        "# calculate the Euclidean distance between two vectors\n",
        "def euclidean_distance(row1, row2):\n",
        "\tdistance = 0.0\n",
        "\tfor i in range(len(row1)-1):\n",
        "\t\tdistance += (row1[i] - row2[i])**2\n",
        "\treturn sqrt(distance)\n",
        " \n",
        "# Locate the most similar neighbors\n",
        "def get_neighbors(train, test_row, num_neighbors):\n",
        "\tdistances = list()\n",
        "\tfor train_row in train:\n",
        "\t\tdist = euclidean_distance(test_row, train_row)\n",
        "\t\tdistances.append((train_row, dist))\n",
        "\tdistances.sort(key=lambda tup: tup[1])\n",
        "\tneighbors = list()\n",
        "\tfor i in range(num_neighbors):\n",
        "\t\tneighbors.append(distances[i][0])\n",
        "\treturn neighbors\n",
        " \n",
        "# Make a classification prediction with neighbors\n",
        "def predict_classification(train, test_row, num_neighbors):\n",
        "\tneighbors = get_neighbors(train, test_row, num_neighbors)\n",
        "\toutput_values = [row[-1] for row in neighbors]\n",
        "\tprediction = max(set(output_values), key=output_values.count)\n",
        "\treturn prediction\n",
        " \n",
        "# Test distance function\n",
        "dataset = [[2.7810836,2.550537003,0],\n",
        "          [1.465489372,2.362125076,0],\n",
        "          [3.396561688,4.400293529,0],\n",
        "          [1.38807019,1.850220317,0],\n",
        "          [3.06407232,3.005305973,0],\n",
        "          [7.627531214,2.759262235,1],\n",
        "          [5.332441248,2.088626775,1],\n",
        "          [6.922596716,1.77106367,1],\n",
        "          [8.675418651,-0.242068655,1],\n",
        "          [7.673756466,3.508563011,1]]\n",
        "prediction = predict_classification(dataset, dataset[0], 3)\n",
        "print('Expected %d, Got %d.' % (dataset[0][-1], prediction))"
      ],
      "execution_count": 0,
      "outputs": [
        {
          "output_type": "stream",
          "text": [
            "Expected 0, Got 0.\n"
          ],
          "name": "stdout"
        }
      ]
    },
    {
      "cell_type": "code",
      "metadata": {
        "id": "EM7ODTg3-UwJ",
        "colab_type": "code",
        "colab": {}
      },
      "source": [
        "y = [0, 0, 0, 0, 0, 1, 1, 1, 1, 1]"
      ],
      "execution_count": 0,
      "outputs": []
    },
    {
      "cell_type": "code",
      "metadata": {
        "id": "-eqI8mmnTsUH",
        "colab_type": "code",
        "outputId": "d83eb381-a607-4ff3-e8f8-f10648e72725",
        "colab": {
          "base_uri": "https://localhost:8080/",
          "height": 36
        }
      },
      "source": [
        "from sklearn.neighbors import KNeighborsClassifier\n",
        "dataset2 = [[2.7810836,2.550537003],\n",
        "          [1.465489372,2.362125076],\n",
        "          [3.396561688,4.400293529],\n",
        "          [1.38807019,1.850220317],\n",
        "          [3.06407232,3.005305973],\n",
        "          [7.627531214,2.759262235],\n",
        "          [5.332441248,2.088626775],\n",
        "          [6.922596716,1.77106367],\n",
        "          [8.675418651,-0.242068655],\n",
        "          [7.673756466,3.508563011]]\n",
        "          \n",
        "knn = KNeighborsClassifier(n_neighbors=3)\n",
        "knn = knn.fit(dataset, y)\n",
        "y_pred = knn.predict([[2.7810836, 2.550537003]])\n",
        "print('Expected %d, Got %d.' % (y[0], y_pred))"
      ],
      "execution_count": 0,
      "outputs": [
        {
          "output_type": "stream",
          "text": [
            "Expected 0, Got 0.\n"
          ],
          "name": "stdout"
        }
      ]
    },
    {
      "cell_type": "markdown",
      "metadata": {
        "id": "2KRxlZTTTsnD",
        "colab_type": "text"
      },
      "source": [
        "###**References**\n",
        "https://machinelearningmastery.com/tutorial-to-implement-k-nearest-neighbors-in-python-from-scratch/\n",
        "\n",
        "https://en.wikipedia.org/wiki/Euclidean_distance\n",
        "\n",
        "https://www.nickgillian.com/wiki/pmwiki.php/GRT/KNN#CodeResources\n",
        "\n",
        "http://theprofessionalspoint.blogspot.com/2019/02/advantages-and-disadvantages-of-knn.html\n",
        "\n",
        "http://www.scholarpedia.org/article/K-nearest_neighbor\n",
        "\n",
        "http://theprofessionalspoint.blogspot.com/2019/02/advantages-and-disadvantages-of-knn.html"
      ]
    }
  ]
}